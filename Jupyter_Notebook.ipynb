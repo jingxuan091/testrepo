{
  "metadata": {
    "kernelspec": {
      "name": "python",
      "display_name": "Pyolite",
      "language": "python"
    },
    "language_info": {
      "codemirror_mode": {
        "name": "python",
        "version": 3
      },
      "file_extension": ".py",
      "mimetype": "text/x-python",
      "name": "python",
      "nbconvert_exporter": "python",
      "pygments_lexer": "ipython3",
      "version": "3.8"
    }
  },
  "nbformat_minor": 4,
  "nbformat": 4,
  "cells": [
    {
      "cell_type": "markdown",
      "source": "<center>\n    <img src=\"https://s3-api.us-geo.objectstorage.softlayer.net/cf-courses-data/CognitiveClass/Logos/organization_logo/organization_logo.png\" width=\"300\" alt=\"cognitiveclass.ai logo\"  />\n</center>\n",
      "metadata": {}
    },
    {
      "cell_type": "markdown",
      "source": "#### Add your code below following the instructions given in the course\n",
      "metadata": {}
    },
    {
      "cell_type": "markdown",
      "source": "# My Jupyter Notebook on IBM Watson Studio",
      "metadata": {}
    },
    {
      "cell_type": "markdown",
      "source": "**JINGXUAN ZHU**\n<br> Engineer",
      "metadata": {}
    },
    {
      "cell_type": "markdown",
      "source": "*I'm insterested in data science because data is important.*",
      "metadata": {}
    },
    {
      "cell_type": "markdown",
      "source": "***Sum of 1 and 2:***",
      "metadata": {}
    },
    {
      "cell_type": "code",
      "source": "1+2",
      "metadata": {
        "trusted": true
      },
      "execution_count": 3,
      "outputs": [
        {
          "execution_count": 3,
          "output_type": "execute_result",
          "data": {
            "text/plain": "3"
          },
          "metadata": {}
        }
      ]
    },
    {
      "cell_type": "markdown",
      "source": "__(https://www.coursera.org/)__\n\n1. numbered list\n2. numbered list\n          \n~~Strikethrough~~",
      "metadata": {}
    },
    {
      "cell_type": "code",
      "source": "",
      "metadata": {},
      "execution_count": null,
      "outputs": []
    }
  ]
}